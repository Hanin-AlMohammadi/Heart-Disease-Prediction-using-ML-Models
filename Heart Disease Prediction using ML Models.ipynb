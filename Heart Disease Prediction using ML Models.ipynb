{
 "cells": [
  {
   "cell_type": "code",
   "execution_count": 1,
   "id": "eb4848f5",
   "metadata": {},
   "outputs": [],
   "source": [
    "import pandas as pd\n",
    "from sklearn.model_selection import train_test_split\n",
    "from sklearn.linear_model import LogisticRegression\n",
    "from sklearn.tree import DecisionTreeClassifier\n",
    "from sklearn.ensemble import RandomForestClassifier\n",
    "from sklearn.svm import SVC\n",
    "from sklearn.preprocessing import LabelEncoder\n",
    "from sklearn.metrics import accuracy_score, classification_report\n",
    "from sklearn.preprocessing import LabelEncoder, StandardScaler\n",
    "from sklearn.model_selection import train_test_split, GridSearchCV, cross_val_score"
   ]
  },
  {
   "cell_type": "code",
   "execution_count": 2,
   "id": "a4f6947f",
   "metadata": {},
   "outputs": [
    {
     "name": "stdout",
     "output_type": "stream",
     "text": [
      "   Age  Sex  Chest pain type   BP  Cholesterol  FBS over 120  EKG results  \\\n",
      "0   70    1                4  130          322             0            2   \n",
      "1   67    0                3  115          564             0            2   \n",
      "2   57    1                2  124          261             0            0   \n",
      "3   64    1                4  128          263             0            0   \n",
      "4   74    0                2  120          269             0            2   \n",
      "\n",
      "   Max HR  Exercise angina  ST depression  Slope of ST  \\\n",
      "0     109                0            2.4            2   \n",
      "1     160                0            1.6            2   \n",
      "2     141                0            0.3            1   \n",
      "3     105                1            0.2            2   \n",
      "4     121                1            0.2            1   \n",
      "\n",
      "   Number of vessels fluro  Thallium Heart Disease  \n",
      "0                        3         3      Presence  \n",
      "1                        0         7       Absence  \n",
      "2                        0         7      Presence  \n",
      "3                        1         7       Absence  \n",
      "4                        1         3       Absence  \n"
     ]
    }
   ],
   "source": [
    "# Load the dataset\n",
    "file_path = \"C:/Users/H/Downloads/Heart_Disease_Prediction.csv\"\n",
    "data = pd.read_csv(file_path)\n",
    "\n",
    "# Display the first 5 rows of the dataset\n",
    "print(data.head())"
   ]
  },
  {
   "cell_type": "code",
   "execution_count": 3,
   "id": "44bc9531",
   "metadata": {},
   "outputs": [
    {
     "name": "stdout",
     "output_type": "stream",
     "text": [
      "<class 'pandas.core.frame.DataFrame'>\n",
      "RangeIndex: 270 entries, 0 to 269\n",
      "Data columns (total 14 columns):\n",
      " #   Column                   Non-Null Count  Dtype  \n",
      "---  ------                   --------------  -----  \n",
      " 0   Age                      270 non-null    int64  \n",
      " 1   Sex                      270 non-null    int64  \n",
      " 2   Chest pain type          270 non-null    int64  \n",
      " 3   BP                       270 non-null    int64  \n",
      " 4   Cholesterol              270 non-null    int64  \n",
      " 5   FBS over 120             270 non-null    int64  \n",
      " 6   EKG results              270 non-null    int64  \n",
      " 7   Max HR                   270 non-null    int64  \n",
      " 8   Exercise angina          270 non-null    int64  \n",
      " 9   ST depression            270 non-null    float64\n",
      " 10  Slope of ST              270 non-null    int64  \n",
      " 11  Number of vessels fluro  270 non-null    int64  \n",
      " 12  Thallium                 270 non-null    int64  \n",
      " 13  Heart Disease            270 non-null    object \n",
      "dtypes: float64(1), int64(12), object(1)\n",
      "memory usage: 29.7+ KB\n",
      "None\n"
     ]
    }
   ],
   "source": [
    "# Display general information about the dataset\n",
    "print(data.info())"
   ]
  },
  {
   "cell_type": "code",
   "execution_count": 4,
   "id": "c940562e",
   "metadata": {},
   "outputs": [
    {
     "name": "stdout",
     "output_type": "stream",
     "text": [
      "              Age         Sex  Chest pain type          BP  Cholesterol  \\\n",
      "count  270.000000  270.000000       270.000000  270.000000   270.000000   \n",
      "mean    54.433333    0.677778         3.174074  131.344444   249.659259   \n",
      "std      9.109067    0.468195         0.950090   17.861608    51.686237   \n",
      "min     29.000000    0.000000         1.000000   94.000000   126.000000   \n",
      "25%     48.000000    0.000000         3.000000  120.000000   213.000000   \n",
      "50%     55.000000    1.000000         3.000000  130.000000   245.000000   \n",
      "75%     61.000000    1.000000         4.000000  140.000000   280.000000   \n",
      "max     77.000000    1.000000         4.000000  200.000000   564.000000   \n",
      "\n",
      "       FBS over 120  EKG results      Max HR  Exercise angina  ST depression  \\\n",
      "count    270.000000   270.000000  270.000000       270.000000      270.00000   \n",
      "mean       0.148148     1.022222  149.677778         0.329630        1.05000   \n",
      "std        0.355906     0.997891   23.165717         0.470952        1.14521   \n",
      "min        0.000000     0.000000   71.000000         0.000000        0.00000   \n",
      "25%        0.000000     0.000000  133.000000         0.000000        0.00000   \n",
      "50%        0.000000     2.000000  153.500000         0.000000        0.80000   \n",
      "75%        0.000000     2.000000  166.000000         1.000000        1.60000   \n",
      "max        1.000000     2.000000  202.000000         1.000000        6.20000   \n",
      "\n",
      "       Slope of ST  Number of vessels fluro    Thallium  \n",
      "count   270.000000               270.000000  270.000000  \n",
      "mean      1.585185                 0.670370    4.696296  \n",
      "std       0.614390                 0.943896    1.940659  \n",
      "min       1.000000                 0.000000    3.000000  \n",
      "25%       1.000000                 0.000000    3.000000  \n",
      "50%       2.000000                 0.000000    3.000000  \n",
      "75%       2.000000                 1.000000    7.000000  \n",
      "max       3.000000                 3.000000    7.000000  \n"
     ]
    }
   ],
   "source": [
    "# Display descriptive statistics\n",
    "print(data.describe())"
   ]
  },
  {
   "cell_type": "code",
   "execution_count": 5,
   "id": "1a794e01",
   "metadata": {},
   "outputs": [
    {
     "name": "stdout",
     "output_type": "stream",
     "text": [
      "Age                        0\n",
      "Sex                        0\n",
      "Chest pain type            0\n",
      "BP                         0\n",
      "Cholesterol                0\n",
      "FBS over 120               0\n",
      "EKG results                0\n",
      "Max HR                     0\n",
      "Exercise angina            0\n",
      "ST depression              0\n",
      "Slope of ST                0\n",
      "Number of vessels fluro    0\n",
      "Thallium                   0\n",
      "Heart Disease              0\n",
      "dtype: int64\n"
     ]
    }
   ],
   "source": [
    "# Check for missing values\n",
    "print(data.isnull().sum())"
   ]
  },
  {
   "cell_type": "code",
   "execution_count": 6,
   "id": "90f4d623",
   "metadata": {},
   "outputs": [],
   "source": [
    "# Encode categorical values to numeric values\n",
    "label_encoder = LabelEncoder()\n",
    "data['Heart Disease'] = label_encoder.fit_transform(data['Heart Disease'])"
   ]
  },
  {
   "cell_type": "code",
   "execution_count": 7,
   "id": "8dc5f6d6",
   "metadata": {},
   "outputs": [
    {
     "name": "stdout",
     "output_type": "stream",
     "text": [
      "Heart Disease\n",
      "0    150\n",
      "1    120\n",
      "Name: count, dtype: int64\n"
     ]
    }
   ],
   "source": [
    "# Verify the distribution of the target variable after encoding\n",
    "print(data['Heart Disease'].value_counts())"
   ]
  },
  {
   "cell_type": "code",
   "execution_count": 8,
   "id": "2e6bf59f",
   "metadata": {},
   "outputs": [],
   "source": [
    "# Define features (X) and target (y)\n",
    "X = data.drop(columns='Heart Disease')\n",
    "y = data['Heart Disease']\n",
    "\n",
    "# Split the dataset into training and testing sets\n",
    "X_train, X_test, y_train, y_test = train_test_split(X, y, test_size=0.3, random_state=0)"
   ]
  },
  {
   "cell_type": "code",
   "execution_count": 9,
   "id": "7646e43f",
   "metadata": {},
   "outputs": [],
   "source": [
    "# Scale the data\n",
    "scaler = StandardScaler()\n",
    "X_train_scaled = scaler.fit_transform(X_train)\n",
    "X_test_scaled = scaler.transform(X_test)"
   ]
  },
  {
   "cell_type": "code",
   "execution_count": 24,
   "id": "90a0033d",
   "metadata": {},
   "outputs": [
    {
     "name": "stdout",
     "output_type": "stream",
     "text": [
      "Logistic Regression Test Accuracy: 0.8148148148148148\n",
      "--------------------------------------------------\n",
      "              precision    recall  f1-score   support\n",
      "\n",
      "           0       0.85      0.83      0.84        48\n",
      "           1       0.76      0.79      0.78        33\n",
      "\n",
      "    accuracy                           0.81        81\n",
      "   macro avg       0.81      0.81      0.81        81\n",
      "weighted avg       0.82      0.81      0.82        81\n",
      "\n"
     ]
    }
   ],
   "source": [
    "# Logistic Regression model with specified hyperparameters\n",
    "log_reg_params = {\n",
    "    'C': 2,\n",
    "    'fit_intercept': True,\n",
    "    'intercept_scaling': 3,\n",
    "    'penalty': 'elasticnet',\n",
    "    'l1_ratio': 0.8 \n",
    "}\n",
    "\n",
    "log_reg = LogisticRegression(max_iter=200, solver='saga', **log_reg_params)\n",
    "log_reg.fit(X_train_scaled, y_train)\n",
    "\n",
    "# Predict and evaluate the performance on test data\n",
    "y_pred_log_reg = log_reg.predict(X_test_scaled)\n",
    "log_reg_test_accuracy = accuracy_score(y_test, y_pred_log_reg)\n",
    "print(\"Logistic Regression Test Accuracy:\", log_reg_test_accuracy)\n",
    "print(\"-\" * 50)\n",
    "print(classification_report(y_test, y_pred_log_reg))"
   ]
  },
  {
   "cell_type": "code",
   "execution_count": 21,
   "id": "327ae881",
   "metadata": {},
   "outputs": [
    {
     "name": "stdout",
     "output_type": "stream",
     "text": [
      "Decision Tree Cross-Validation Accuracy: 0.8149359886201992\n",
      "--------------------------------------------------\n",
      "Decision Tree Test Accuracy: 0.7160493827160493\n",
      "--------------------------------------------------\n",
      "              precision    recall  f1-score   support\n",
      "\n",
      "           0       0.76      0.77      0.76        48\n",
      "           1       0.66      0.64      0.65        33\n",
      "\n",
      "    accuracy                           0.72        81\n",
      "   macro avg       0.71      0.70      0.70        81\n",
      "weighted avg       0.71      0.72      0.72        81\n",
      "\n"
     ]
    }
   ],
   "source": [
    "# Decision Tree Classifier with custom hyperparameters\n",
    "dt = DecisionTreeClassifier(max_depth=7, min_samples_split=10, min_samples_leaf=4)\n",
    "dt.fit(X_train_scaled, y_train)\n",
    "\n",
    "# Cross-validation accuracy for Decision Tree\n",
    "dt_cv_accuracy = cross_val_score(dt, X_train_scaled, y_train, cv=5).mean()\n",
    "print(\"Decision Tree Cross-Validation Accuracy:\", dt_cv_accuracy)\n",
    "print(\"-\" * 50)\n",
    "\n",
    "# Predict and evaluate the performance on test data\n",
    "y_pred_dt = dt.predict(X_test_scaled)\n",
    "dt_test_accuracy = accuracy_score(y_test, y_pred_dt)\n",
    "print(\"Decision Tree Test Accuracy:\", dt_test_accuracy)\n",
    "print(\"-\" * 50)\n",
    "print(classification_report(y_test, y_pred_dt))"
   ]
  },
  {
   "cell_type": "code",
   "execution_count": 25,
   "id": "bcdfe17d",
   "metadata": {
    "scrolled": true
   },
   "outputs": [
    {
     "name": "stdout",
     "output_type": "stream",
     "text": [
      "Random Forest Cross-Validation Accuracy: 0.8624466571834993\n",
      "--------------------------------------------------\n",
      "Random Forest Test Accuracy: 0.8024691358024691\n",
      "--------------------------------------------------\n",
      "              precision    recall  f1-score   support\n",
      "\n",
      "           0       0.86      0.79      0.83        48\n",
      "           1       0.73      0.82      0.77        33\n",
      "\n",
      "    accuracy                           0.80        81\n",
      "   macro avg       0.80      0.80      0.80        81\n",
      "weighted avg       0.81      0.80      0.80        81\n",
      "\n"
     ]
    }
   ],
   "source": [
    "# Random Forest Classifier with custom hyperparameters\n",
    "rf = RandomForestClassifier(n_estimators=150, max_depth=7, min_samples_split=10, min_samples_leaf=4)\n",
    "rf.fit(X_train_scaled, y_train)\n",
    "\n",
    "# Cross-validation accuracy for Random Forest\n",
    "rf_cv_accuracy = cross_val_score(rf, X_train_scaled, y_train, cv=5).mean()\n",
    "print(\"Random Forest Cross-Validation Accuracy:\", rf_cv_accuracy)\n",
    "print(\"-\" * 50)\n",
    "\n",
    "# Predict and evaluate the performance on test data\n",
    "y_pred_rf = rf.predict(X_test_scaled)\n",
    "rf_test_accuracy = accuracy_score(y_test, y_pred_rf)\n",
    "print(\"Random Forest Test Accuracy:\", rf_test_accuracy)\n",
    "print(\"-\" * 50)\n",
    "print(classification_report(y_test, y_pred_rf))"
   ]
  },
  {
   "cell_type": "code",
   "execution_count": 26,
   "id": "f5718e7a",
   "metadata": {},
   "outputs": [
    {
     "name": "stdout",
     "output_type": "stream",
     "text": [
      "Support Vector Machine (SVM) Cross-Validation Accuracy: 0.846941678520626\n",
      "--------------------------------------------------\n",
      "Support Vector Machine (SVM) Test Accuracy: 0.8271604938271605\n",
      "--------------------------------------------------\n",
      "              precision    recall  f1-score   support\n",
      "\n",
      "           0       0.87      0.83      0.85        48\n",
      "           1       0.77      0.82      0.79        33\n",
      "\n",
      "    accuracy                           0.83        81\n",
      "   macro avg       0.82      0.83      0.82        81\n",
      "weighted avg       0.83      0.83      0.83        81\n",
      "\n"
     ]
    }
   ],
   "source": [
    "# Support Vector Machine (SVM) model with custom hyperparameters\n",
    "svm = SVC(C=2, kernel='linear')\n",
    "svm.fit(X_train_scaled, y_train)\n",
    "\n",
    "# Cross-validation accuracy for SVM\n",
    "svm_cv_accuracy = cross_val_score(svm, X_train_scaled, y_train, cv=5).mean()\n",
    "print(\"Support Vector Machine (SVM) Cross-Validation Accuracy:\", svm_cv_accuracy)\n",
    "print(\"-\" * 50)\n",
    "\n",
    "# Predict and evaluate the performance on test data\n",
    "y_pred_svm = svm.predict(X_test_scaled)\n",
    "svm_test_accuracy = accuracy_score(y_test, y_pred_svm)\n",
    "print(\"Support Vector Machine (SVM) Test Accuracy:\", svm_test_accuracy)\n",
    "print(\"-\" * 50)\n",
    "print(classification_report(y_test, y_pred_svm))"
   ]
  },
  {
   "cell_type": "code",
   "execution_count": 28,
   "id": "4ddfec0c",
   "metadata": {},
   "outputs": [
    {
     "name": "stdout",
     "output_type": "stream",
     "text": [
      "\n",
      "Best Model: Random Forest with Cross-Validation Accuracy: 0.8624466571834993\n"
     ]
    }
   ],
   "source": [
    "# Create a dictionary to store the cross-validation accuracies of the models\n",
    "accuracies = {\n",
    "    'Logistic Regression': log_reg_cv_accuracy,\n",
    "    'Decision Tree': dt_cv_accuracy,\n",
    "    'Random Forest': rf_cv_accuracy,\n",
    "    'Support Vector Machine (SVM)': svm_cv_accuracy\n",
    "}\n",
    "\n",
    "# Identify the best model based on the highest cross-validation accuracy\n",
    "best_model_name = max(accuracies, key=accuracies.get)\n",
    "best_model_accuracy = accuracies[best_model_name]\n",
    "\n",
    "# Print the name of the best model and its cross-validation accuracy\n",
    "print(f\"\\nBest Model: {best_model_name} with Cross-Validation Accuracy: {best_model_accuracy}\")"
   ]
  },
  {
   "cell_type": "code",
   "execution_count": 34,
   "id": "e6f56716",
   "metadata": {},
   "outputs": [
    {
     "name": "stdout",
     "output_type": "stream",
     "text": [
      "Number of features before selection: 13\n",
      "Number of features after selection: 8\n"
     ]
    }
   ],
   "source": [
    "# Feature selection using RandomForestClassifier\n",
    "clf = RandomForestClassifier(n_estimators=100, random_state=42)\n",
    "clf.fit(X_train_scaled, y_train)\n",
    "\n",
    "# Use SelectFromModel to select features based on importance\n",
    "sfm = SelectFromModel(clf, threshold='mean', prefit=False)\n",
    "\n",
    "# Transform the training and testing data using the selected features\n",
    "X_train_selected = sfm.transform(X_train_scaled)\n",
    "X_test_selected = sfm.transform(X_test_scaled)\n",
    "\n",
    "# Print the number of features before and after selection\n",
    "print(\"Number of features before selection:\", X_train_scaled.shape[1])\n",
    "print(\"Number of features after selection:\", X_train_selected.shape[1])\n"
   ]
  },
  {
   "cell_type": "code",
   "execution_count": 36,
   "id": "f3d326cd",
   "metadata": {},
   "outputs": [
    {
     "name": "stdout",
     "output_type": "stream",
     "text": [
      "Decision Tree Cross-Validation Accuracy: 0.7938833570412517\n",
      "--------------------------------------------------\n",
      "Decision Tree Test Accuracy: 0.7530864197530864\n",
      "--------------------------------------------------\n",
      "              precision    recall  f1-score   support\n",
      "\n",
      "           0       0.79      0.79      0.79        48\n",
      "           1       0.70      0.70      0.70        33\n",
      "\n",
      "    accuracy                           0.75        81\n",
      "   macro avg       0.74      0.74      0.74        81\n",
      "weighted avg       0.75      0.75      0.75        81\n",
      "\n"
     ]
    }
   ],
   "source": [
    "# Create a pipeline for the Decision Tree model with feature selection\n",
    "pipeline_dt = Pipeline([\n",
    "    ('feature_selection', sfm),\n",
    "    ('classification', DecisionTreeClassifier(max_depth=7, min_samples_split=10, min_samples_leaf=4))\n",
    "])\n",
    "\n",
    "# Train the pipeline and measure cross-validation accuracy\n",
    "pipeline_dt.fit(X_train_scaled, y_train)\n",
    "dt_cv_accuracy = cross_val_score(pipeline_dt, X_train_scaled, y_train, cv=5).mean()\n",
    "print(\"Decision Tree Cross-Validation Accuracy:\", dt_cv_accuracy)\n",
    "print(\"-\" * 50)\n",
    "\n",
    "# Predict and evaluate performance on test data\n",
    "y_pred_dt = pipeline_dt.predict(X_test_scaled)\n",
    "dt_test_accuracy = accuracy_score(y_test, y_pred_dt)\n",
    "print(\"Decision Tree Test Accuracy:\", dt_test_accuracy)\n",
    "print(\"-\" * 50)\n",
    "print(classification_report(y_test, y_pred_dt))"
   ]
  },
  {
   "cell_type": "code",
   "execution_count": 37,
   "id": "02e8b6de",
   "metadata": {},
   "outputs": [
    {
     "name": "stdout",
     "output_type": "stream",
     "text": [
      "Support Vector Machine (SVM) Cross-Validation Accuracy: 0.8258890469416785\n",
      "--------------------------------------------------\n",
      "Support Vector Machine (SVM) Test Accuracy: 0.8271604938271605\n",
      "--------------------------------------------------\n",
      "              precision    recall  f1-score   support\n",
      "\n",
      "           0       0.87      0.83      0.85        48\n",
      "           1       0.77      0.82      0.79        33\n",
      "\n",
      "    accuracy                           0.83        81\n",
      "   macro avg       0.82      0.83      0.82        81\n",
      "weighted avg       0.83      0.83      0.83        81\n",
      "\n"
     ]
    }
   ],
   "source": [
    "# Create a pipeline for the SVM model with feature selection\n",
    "pipeline_svm = Pipeline([\n",
    "    ('feature_selection', sfm),\n",
    "    ('classification', SVC(C=1, kernel='linear'))\n",
    "])\n",
    "\n",
    "# Train the pipeline and measure cross-validation accuracy\n",
    "pipeline_svm.fit(X_train_scaled, y_train)\n",
    "svm_cv_accuracy = cross_val_score(pipeline_svm, X_train_scaled, y_train, cv=5).mean()\n",
    "print(\"Support Vector Machine (SVM) Cross-Validation Accuracy:\", svm_cv_accuracy)\n",
    "print(\"-\" * 50)\n",
    "\n",
    "# Predict and evaluate performance on test data\n",
    "y_pred_svm = pipeline_svm.predict(X_test_scaled)\n",
    "svm_test_accuracy = accuracy_score(y_test, y_pred_svm)\n",
    "print(\"Support Vector Machine (SVM) Test Accuracy:\", svm_test_accuracy)\n",
    "print(\"-\" * 50)\n",
    "print(classification_report(y_test, y_pred_svm))"
   ]
  },
  {
   "cell_type": "code",
   "execution_count": 27,
   "id": "01418169",
   "metadata": {},
   "outputs": [
    {
     "data": {
      "image/png": "[encoded data removed]",
      "text/plain": [
       "<Figure size 1000x600 with 1 Axes>"
      ]
     },
     "metadata": {},
     "output_type": "display_data"
    }
   ],
   "source": [
    "# Plotting comparison of cross-validation accuracies for all models\n",
    "\n",
    "import matplotlib.pyplot as plt\n",
    "import numpy as np\n",
    "\n",
    "# List of models and their corresponding cross-validation accuracies\n",
    "models = ['Logistic Regression', 'Decision Tree', 'Random Forest', 'Support Vector Machine (SVM)']\n",
    "cv_accuracies = [log_reg_cv_accuracy, dt_cv_accuracy, rf_cv_accuracy, svm_cv_accuracy]\n",
    "\n",
    "# Bar plot for comparison\n",
    "fig, ax = plt.subplots(figsize=(10, 6))\n",
    "bars = ax.bar(models, cv_accuracies, color=['blue', 'green', 'orange', 'red'])\n",
    "\n",
    "# Adding labels and titles to the plot\n",
    "ax.set_xlabel('Models')\n",
    "ax.set_ylabel('Cross-Validation Accuracy')\n",
    "ax.set_title('Comparison of Cross-Validation Accuracy')\n",
    "ax.set_ylim([0.7, 1.0])  \n",
    "# Adding data labels on top of the bars\n",
    "for bar in bars:\n",
    "    yval = round(bar.get_height(), 3)\n",
    "    ax.text(bar.get_x() + bar.get_width()/2, yval, yval, ha='center', va='bottom', fontsize=10)\n",
    "\n",
    "# Show the plot\n",
    "plt.tight_layout()\n",
    "plt.show()\n"
   ]
  },
  {
   "cell_type": "code",
   "execution_count": null,
   "id": "2cef2a1f",
   "metadata": {},
   "outputs": [],
   "source": []
  }
 ],
 "metadata": {
  "kernelspec": {
   "display_name": "Python 3 (ipykernel)",
   "language": "python",
   "name": "python3"
  },
  "language_info": {
   "codemirror_mode": {
    "name": "ipython",
    "version": 3
   },
   "file_extension": ".py",
   "mimetype": "text/x-python",
   "name": "python",
   "nbconvert_exporter": "python",
   "pygments_lexer": "ipython3",
   "version": "3.11.5"
  }
 },
 "nbformat": 4,
 "nbformat_minor": 5
}
